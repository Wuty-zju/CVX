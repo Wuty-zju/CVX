{
 "cells": [
  {
   "cell_type": "markdown",
   "id": "37cf2db5",
   "metadata": {},
   "source": [
    "**Bandlimited signal recovery from zero-crossings.** Let $y \\in \\mathbb{R}^n$ denote a bandlimited signal, which means that it can be expressed as a linear combination of sinusoids with frequencies in a band:\n",
    "\n",
    "$$\n",
    "y_t = \\sum_{j=1}^{B} a_j \\cos \\left( \\frac{2\\pi}{n} (f_{\\text{min}} + j - 1)t \\right) + b_j \\sin \\left( \\frac{2\\pi}{n} (f_{\\text{min}} + j - 1)t \\right), \\quad t=1,\\ldots,n,\n",
    "$$\n",
    "\n",
    "where $f_{\\text{min}}$ is the lowest frequency in the band, $B$ is the bandwidth, and $a, b \\in \\mathbb{R}^B$ are the cosine and sine coefficients, respectively. We are given $f_{\\text{min}}$ and $B$, but not the coefficients $a, b$ or the signal $y$.\n",
    "\n",
    "We do not know $y$, but we are given its sign $s = \\text{sign}(y)$, where $s_t = 1$ if $y_t \\geq 0$ and $s_t = -1$ if $y_t < 0$. (Up to a change of overall sign, this is the same as knowing the 'zero-crossings' of the signal, i.e., when it changes sign. Hence the name of this problem.)\n",
    "\n",
    "We seek an estimate $\\hat{y}$ of $y$ that is consistent with the bandlimited assumption and the given signs. Of course we cannot distinguish $y$ and $\\alpha y$, where $\\alpha > 0$, since both of these signals have the same sign pattern. Thus, we can only estimate $y$ up to a positive scale factor. To normalize $\\hat{y}$, we will require that $\\|\\hat{y}\\|_1 = n$, i.e., the average value of $|y_i|$ is one. Among all $\\hat{y}$ that are consistent with the bandlimited assumption, the given signs, and the normalization, we choose the one that minimizes $\\|\\hat{y}\\|_2$.\n",
    "\n",
    "(a) Show how to find $\\hat{y}$ using convex or quasiconvex optimization.\n",
    "\n",
    "(b) Apply your method to the problem instance with data in `zero_crossings_data.*`. The data files also include the true signal $y$ (which of course you cannot use to find $\\hat{y}$). Plot $\\hat{y}$ and $y$, and report the relative recovery error, $\\|\\hat{y} - y\\|_2 / \\|y\\|_2$. Give one short sentence commenting on the quality of the recovery."
   ]
  },
  {
   "cell_type": "markdown",
   "id": "feabdc68",
   "metadata": {},
   "source": [
    "**稀疏盲反卷积** 我们得到一个时间序列观测值 $y \\in \\mathbb{R}^T$，并寻找一个滤波器（卷积核）$w \\in \\mathbb{R}^k$，使得卷积 $x = w * y \\in \\mathbb{R}^{(T + k - 1)}$ 在截断首尾 $k - 1$ 项后变得稀疏，即 $x_{k:T} = (x_k, x_{k+1}, ..., x_T)$ 是稀疏的。这里 $*$ 表示卷积，\n",
    "\n",
    "$$ x_i = \\sum_{j=1}^{k} w_j y_{i-j}, \\quad i = 1,...,T + k - 1 $$\n",
    "\n",
    "其中我们假设 $y_t = 0$ 对于 $t \\leq 0$。通常情况下我们有 $k \\ll T$。\n",
    "\n",
    "作为 $x$ 的稀疏性的凸替代，我们最小化其 $l_1$-范数，$\\|x\\|_1$。为了避免平凡解 $w = 0$，我们通过施加约束 $w_1 = 1$ 来规范化 $w$。\n",
    "\n",
    "**解释**（这些不是解决问题所必需的。）在信号处理术语中，我们可以说 $w$ 是一个滤波器，当应用于信号 $y$ 时，产生了 $x$，一个更简单、稀疏的信号。作为第二种解释，我们可以说 $y = w^{(-1)} * x$，其中 $w^{(-1)}$ 是 $w$ 的卷积逆，定义为\n",
    "\n",
    "$$ w^{(-1)} = F^{(-1)}(1/F(w)), $$\n",
    "\n",
    "其中 $F$ 是长度为 $N = T + k$ 的离散傅里叶变换，$F^{(-1)}$ 是其逆变换。在这种解释中，我们可以说我们已经将信号分解成了稀疏信号 $x$ 和具有短（长度为k）逆的信号 $w^{(-1)}$ 的卷积。\n",
    "\n",
    "在 `blind_deconv_data.*` 中给出的信号上执行盲反卷积。此文件还定义了核长 $k$。绘制最优 $w$ 和 $x$，以及给定的观测 $y$。还要绘制逆核 $w^{(-1)}$，使用我们在 `blind_deconv_data.*` 中提供的 `inverse_ker` 函数。\n",
    "\n",
    "**提示**：函数 `conv(w, y)` 已被重载以适用于 CVX*。\n"
   ]
  }
 ],
 "metadata": {
  "language_info": {
   "name": "python"
  }
 },
 "nbformat": 4,
 "nbformat_minor": 5
}
