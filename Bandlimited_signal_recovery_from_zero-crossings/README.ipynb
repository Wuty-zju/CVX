{
 "cells": [
  {
   "cell_type": "markdown",
   "id": "37cf2db5",
   "metadata": {},
   "source": [
    "**Bandlimited signal recovery from zero-crossings.** Let $y \\in \\mathbb{R}^n$ denote a bandlimited signal, which means that it can be expressed as a linear combination of sinusoids with frequencies in a band:\n",
    "\n",
    "$$\n",
    "y_t = \\sum_{j=1}^{B} a_j \\cos \\left( \\frac{2\\pi}{n} (f_{\\text{min}} + j - 1)t \\right) + b_j \\sin \\left( \\frac{2\\pi}{n} (f_{\\text{min}} + j - 1)t \\right), \\quad t=1,\\ldots,n,\n",
    "$$\n",
    "\n",
    "where $f_{\\text{min}}$ is the lowest frequency in the band, $B$ is the bandwidth, and $a, b \\in \\mathbb{R}^B$ are the cosine and sine coefficients, respectively. We are given $f_{\\text{min}}$ and $B$, but not the coefficients $a, b$ or the signal $y$.\n",
    "\n",
    "We do not know $y$, but we are given its sign $s = \\text{sign}(y)$, where $s_t = 1$ if $y_t \\geq 0$ and $s_t = -1$ if $y_t < 0$. (Up to a change of overall sign, this is the same as knowing the 'zero-crossings' of the signal, i.e., when it changes sign. Hence the name of this problem.)\n",
    "\n",
    "We seek an estimate $\\hat{y}$ of $y$ that is consistent with the bandlimited assumption and the given signs. Of course we cannot distinguish $y$ and $\\alpha y$, where $\\alpha > 0$, since both of these signals have the same sign pattern. Thus, we can only estimate $y$ up to a positive scale factor. To normalize $\\hat{y}$, we will require that $\\|\\hat{y}\\|_1 = n$, i.e., the average value of $|y_i|$ is one. Among all $\\hat{y}$ that are consistent with the bandlimited assumption, the given signs, and the normalization, we choose the one that minimizes $\\|\\hat{y}\\|_2$.\n",
    "\n",
    "(a) Show how to find $\\hat{y}$ using convex or quasiconvex optimization.\n",
    "\n",
    "(b) Apply your method to the problem instance with data in `zero_crossings_data.*`. The data files also include the true signal $y$ (which of course you cannot use to find $\\hat{y}$). Plot $\\hat{y}$ and $y$, and report the relative recovery error, $\\|\\hat{y} - y\\|_2 / \\|y\\|_2$. Give one short sentence commenting on the quality of the recovery."
   ]
  },
  {
   "cell_type": "markdown",
   "id": "feabdc68",
   "metadata": {},
   "source": [
    "**从零交叉恢复带限信号。** 设 $y \\in \\mathbb{R}^n$ 表示一个带限信号，这意味着它可以表示为一个频带内正弦波的线性组合：\n",
    "\n",
    "$$\n",
    "y_t = \\sum_{j=1}^{B} a_j \\cos \\left( \\frac{2\\pi}{n} (f_{\\text{min}} + j - 1)t \\right) + b_j \\sin \\left( \\frac{2\\pi}{n} (f_{\\text{min}} + j - 1)t \\right), \\quad t=1,\\ldots,n,\n",
    "$$\n",
    "\n",
    "其中 $f_{\\text{min}}$ 是频带中的最低频率，$B$ 是带宽，$a, b \\in \\mathbb{R}^B$ 分别是余弦和正弦系数。我们被给定了 $f_{\\text{min}}$ 和 $B$，但没有给出系数 $a, b$ 或信号 $y$。\n",
    "\n",
    "我们不知道 $y$，但我们得到了它的符号 $s = \\text{sign}(y)$，其中 $s_t = 1$ 如果 $y_t \\geq 0$ 并且 $s_t = -1$ 如果 $y_t < 0$。（直到整体符号的改变，这和知道信号的'零交叉'是一样的，即，当它改变符号时。因此这个问题的名称。）\n",
    "\n",
    "我们寻求一个与带限假设和给定符号一致的 $y$ 的估计 $\\hat{y}$。当然，我们不能区分 $y$ 和 $\\alpha y$，其中 $\\alpha > 0$，因为这两个信号有相同的符号模式。因此，我们只能估计 $y$ 直到一个正的比例因子。为了规范化 $\\hat{y}$，我们将要求 $\\|\\hat{y}\\|_1 = n$，即 $|y_i|$ 的平均值是一。在所有与带限假设、给定符号和规范化一致的 $\\hat{y}$ 中，我们选择最小化 $\\|\\hat{y}\\|_2$ 的一个。\n",
    "\n",
    "(a) 展示如何使用凸优化或准凸优化找到 $\\hat{y}$。\n",
    "\n",
    "(b) 将您的方法应用于 `zero_crossings_data.*` 中的数据问题实例。数据文件还包括真实信号 $y$（当然您不能使用它来找到 $\\hat{y}$）。绘制 $\\hat{y}$ 和 $y$，并报告相对恢复误差，$\\|\\hat{y} - y\\|_2 / \\|y\\|_2$。简短评注恢复的质量。"
   ]
  },
  {
   "cell_type": "markdown",
   "id": "044f0da9",
   "metadata": {},
   "source": [
    "(a) 我们可以将我们的估计表示为 $\\hat{y} = Ax$，其中 $x = (a, b) \\in \\mathbb{R}^{2B}$ 是余弦和正弦系数的向量，并且我们定义矩阵\n",
    "$$\n",
    "A = [C \\quad S] \\in \\mathbb{R}^{n \\times 2B},\n",
    "$$\n",
    "其中 $C, S \\in \\mathbb{R}^{n \\times B}$ 的元素分别为\n",
    "$$\n",
    "C_{tj} = \\cos\\left(\\frac{2\\pi(f_{\\text{min}} + j - 1)t}{n}\\right), \\quad S_{tj} = \\sin\\left(\\frac{2\\pi(f_{\\text{min}} + j - 1)t}{n}\\right),\n",
    "$$\n",
    "\n",
    "为了确保 $\\hat{y}$ 的符号与 $s$ 一致，我们需要约束 $s_ta_t^T x \\geq 0$ 对于 $t = 1,\\ldots,n$，其中 $a_1^T ,\\ldots,a_n^T$ 是 A 的行。为了达到适当的规范化，我们还需要线性等式约束 $\\|\\hat{y}\\|_1 = s^TAx = n$。（注意，一般来说 $l_1$-范数等式约束不是凸的，但在这里是凸的，因为给定了符号。）\n",
    "\n",
    "我们有一个凸目标和线性不等式以及等式约束，所以我们的优化问题是凸的：\n",
    "\n",
    "$$\n",
    "\\begin{aligned}\n",
    "& \\text{min} & & \\|Ax\\|_2 \\\\\n",
    "& \\text{s.t.} & & s_ta_t^T x \\geq 0, & \\quad t = 1,\\ldots,n \\\\\n",
    "& & & s^TAx = n.\n",
    "\\end{aligned}\n",
    "$$\n",
    "\n",
    "我们得到我们的估计为 $\\hat{y} = Ax^*$，其中 $x^*$ 是这个问题的解。\n",
    "\n",
    "一个常见的错误是在没有规范化约束的情况下制定上述问题。错误的论点是你会解决这个问题，它是齐次的，然后你会缩放所得到的结果使其 $l_1$ 范数为一。这是行不通的，因为齐次问题的（唯一）解是 $x = 0$（因为 $x = 0$ 是可行的）。然而，这种方法确实给出了比 $x = 0$ 远好的数值结果。原因是解算器返回了一个非常小的 $x$，对于该 $x$，$Ax$ 有正确的符号。并且不，这并不意味着误差不是一个糟糕的。"
   ]
  }
 ],
 "metadata": {
  "language_info": {
   "name": "python"
  }
 },
 "nbformat": 4,
 "nbformat_minor": 5
}
