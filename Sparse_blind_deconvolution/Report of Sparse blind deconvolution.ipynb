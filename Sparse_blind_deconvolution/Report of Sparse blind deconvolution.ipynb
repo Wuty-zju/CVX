{
 "cells": [
  {
   "cell_type": "markdown",
   "id": "b4bd561b",
   "metadata": {},
   "source": [
    "# Report of Sparse blind deconvolution\n",
    "\n",
    "**吴天宇 12334125**"
   ]
  },
  {
   "cell_type": "markdown",
   "id": "37cf2db5",
   "metadata": {},
   "source": [
    "## **0.1题目**\n",
    "\n",
    "**Sparse blind deconvolution.** We are given a time series observation $y \\in \\mathbb{R}^T$, and seek a filter (convolution kernel) $w \\in \\mathbb{R}^k$, so that the convolution $x = w * y \\in \\mathbb{R}^{(T + k - 1)}$ is sparse after truncating the first and last $k - 1$ entries, i.e., $x_{k:T} = (x_k, x_{k+1}, ..., x_T)$ is sparse. Here $*$ denotes convolution,\n",
    "\n",
    "$$ x_i = \\sum_{j=1}^{k} w_j y_{i-j}, \\quad i = 1,...,T + k - 1 $$\n",
    "\n",
    "where we assume that $y_t = 0$ for $t \\leq 0$. Typically we have $k \\ll T$.\n",
    "\n",
    "As a convex surrogate for sparsity of $x$, we minimize its $l_1$-norm, $\\|x\\|_1$. To preclude the trivial solution $w = 0$, we normalize $w$ by imposing the constraint $w_1 = 1$.\n",
    "\n",
    "**Interpretations.** (These are not needed to solve the problem.) In signal processing dialect, we can say that $w$ is a filter which, when applied to the signal $y$, results in $x$, a simpler, sparse signal. As a second interpretation, we can say that $y = w^{(-1)} * x$, where $w^{(-1)}$ is the convolution inverse of $w$, defined as\n",
    "\n",
    "$$ w^{(-1)} = F^{(-1)}(1/F(w)), $$\n",
    "\n",
    "where $F$ is discrete Fourier transform at length $N = T + k$ and $F^{(-1)}$ is its inverse transform. In this interpretation, we can say that we have decomposed the signal into the convolution of a sparse signal $x$ and a signal with short (k-long) inverse, $w^{(-1)}$.\n",
    "\n",
    "Carry out blind deconvolution on the signal given in `blind_deconv_data.*`. This file also defines the kernel length $k$. Plot optimal $w$ and $x$, and also the given observation $y$. Also plot the inverse kernel $w^{(-1)}$, use the function `inverse_ker` that we provided in `blind_deconv_data.*`.\n",
    "\n",
    "**Hint.** The function `conv(w, y)` is overloaded to work with CVX*."
   ]
  },
  {
   "cell_type": "markdown",
   "id": "feabdc68",
   "metadata": {},
   "source": [
    "## **0.2题目翻译**\n",
    "\n",
    "**稀疏盲反卷积** 我们得到一个时间序列观测值 $y \\in \\mathbb{R}^T$，并寻找一个滤波器（卷积核）$w \\in \\mathbb{R}^k$，使得卷积 $x = w * y \\in \\mathbb{R}^{(T + k - 1)}$ 在截断首尾 $k - 1$ 项后变得稀疏，即 $x_{k:T} = (x_k, x_{k+1}, ..., x_T)$ 是稀疏的。这里 $*$ 表示卷积，\n",
    "\n",
    "$$ x_i = \\sum_{j=1}^{k} w_j y_{i-j}, \\quad i = 1,...,T + k - 1 $$\n",
    "\n",
    "其中我们假设 $y_t = 0$ 对于 $t \\leq 0$。通常情况下我们有 $k \\ll T$。\n",
    "\n",
    "作为 $x$ 的稀疏性的凸替代，我们最小化其 $l_1$-范数，$\\|x\\|_1$。为了避免平凡解 $w = 0$，我们通过施加约束 $w_1 = 1$ 来规范化 $w$。\n",
    "\n",
    "**解释**（这些不是解决问题所必需的。）在信号处理术语中，我们可以说 $w$ 是一个滤波器，当应用于信号 $y$ 时，产生了 $x$，一个更简单、稀疏的信号。作为第二种解释，我们可以说 $y = w^{(-1)} * x$，其中 $w^{(-1)}$ 是 $w$ 的卷积逆，定义为\n",
    "\n",
    "$$ w^{(-1)} = F^{(-1)}(1/F(w)), $$\n",
    "\n",
    "其中 $F$ 是长度为 $N = T + k$ 的离散傅里叶变换，$F^{(-1)}$ 是其逆变换。在这种解释中，我们可以说我们已经将信号分解成了稀疏信号 $x$ 和具有短（长度为k）逆的信号 $w^{(-1)}$ 的卷积。\n",
    "\n",
    "在 `blind_deconv_data.*` 中给出的信号上执行盲反卷积。此文件还定义了核长 $k$。绘制最优 $w$ 和 $x$，以及给定的观测 $y$。还要绘制逆核 $w^{(-1)}$，使用我们在 `blind_deconv_data.*` 中提供的 `inverse_ker` 函数。\n",
    "\n",
    "**提示**：函数 `conv(w, y)` 已被重载以适用于 CVX*。\n"
   ]
  },
  {
   "cell_type": "markdown",
   "id": "e1d2e350",
   "metadata": {},
   "source": [
    "## **1.1解答**\n",
    "\n",
    "给定一个观测时间序列 $y \\in \\mathbb{R}^T$，目标是找到一个滤波器 $w \\in \\mathbb{R}^k$，使得卷积 $x = w * y$ 在截断首尾 $k - 1$ 个元素后变得稀疏，可以表述为如下优化问题：\n",
    "\n",
    "$$\n",
    "\\begin{aligned}\n",
    "& \\text{min}\n",
    "& & \\|x\\|_1 \\\\\n",
    "& \\text{s.t.}\n",
    "& & x = w * y, \\\\\n",
    "& & & w_1 = 1, \\\\\n",
    "& & & w \\in \\mathbb{R}^k, x \\in \\mathbb{R}^{(T + k - 1)}.\n",
    "\\end{aligned}\n",
    "$$\n",
    "\n",
    "这里的 $\\|x\\|_1$ 表示 $x$ 的 $l_1$-范数，即 $x$ 各元素绝对值之和。目标是最小化 $x$ 的 $l_1$-范数，而 $x$ 由 $w$ 和 $y$ 通过卷积操作得到。此外，有一个约束条件 $w_1 = 1$ 以确保 $w$ 不是零向量。因为目标函数和所有的约束都是凸的，故该优化问题为凸优化问题。\n"
   ]
  }
 ],
 "metadata": {
  "language_info": {
   "name": "python"
  }
 },
 "nbformat": 4,
 "nbformat_minor": 5
}
