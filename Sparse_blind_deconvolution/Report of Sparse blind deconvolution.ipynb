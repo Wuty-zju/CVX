{
 "cells": [
  {
   "cell_type": "markdown",
   "id": "b4bd561b",
   "metadata": {},
   "source": [
    "# Report of Sparse blind deconvolution\n",
    "\n",
    "**吴天宇 12334125**"
   ]
  },
  {
   "cell_type": "markdown",
   "id": "37cf2db5",
   "metadata": {},
   "source": [
    "## **0.1题目**\n",
    "\n",
    "**Sparse blind deconvolution.** We are given a time series observation $y \\in \\mathbb{R}^T$, and seek a filter (convolution kernel) $w \\in \\mathbb{R}^k$, so that the convolution $x = w * y \\in \\mathbb{R}^{(T + k - 1)}$ is sparse after truncating the first and last $k - 1$ entries, i.e., $x_{k:T} = (x_k, x_{k+1}, ..., x_T)$ is sparse. Here $*$ denotes convolution,\n",
    "\n",
    "$$ x_i = \\sum_{j=1}^{k} w_j y_{i-j}, \\quad i = 1,...,T + k - 1 $$\n",
    "\n",
    "where we assume that $y_t = 0$ for $t \\leq 0$. Typically we have $k \\ll T$.\n",
    "\n",
    "As a convex surrogate for sparsity of $x$, we minimize its $l_1$-norm, $\\|x\\|_1$. To preclude the trivial solution $w = 0$, we normalize $w$ by imposing the constraint $w_1 = 1$.\n",
    "\n",
    "**Interpretations.** (These are not needed to solve the problem.) In signal processing dialect, we can say that $w$ is a filter which, when applied to the signal $y$, results in $x$, a simpler, sparse signal. As a second interpretation, we can say that $y = w^{(-1)} * x$, where $w^{(-1)}$ is the convolution inverse of $w$, defined as\n",
    "\n",
    "$$ w^{(-1)} = F^{(-1)}(1/F(w)), $$\n",
    "\n",
    "where $F$ is discrete Fourier transform at length $N = T + k$ and $F^{(-1)}$ is its inverse transform. In this interpretation, we can say that we have decomposed the signal into the convolution of a sparse signal $x$ and a signal with short (k-long) inverse, $w^{(-1)}$.\n",
    "\n",
    "Carry out blind deconvolution on the signal given in `blind_deconv_data.*`. This file also defines the kernel length $k$. Plot optimal $w$ and $x$, and also the given observation $y$. Also plot the inverse kernel $w^{(-1)}$, use the function `inverse_ker` that we provided in `blind_deconv_data.*`.\n",
    "\n",
    "**Hint.** The function `conv(w, y)` is overloaded to work with CVX*."
   ]
  },
  {
   "cell_type": "markdown",
   "id": "feabdc68",
   "metadata": {},
   "source": [
    "## **0.2题目翻译**\n",
    "\n",
    "**稀疏盲反卷积** 我们得到一个时间序列观测值 $y \\in \\mathbb{R}^T$，并寻找一个滤波器（卷积核）$w \\in \\mathbb{R}^k$，使得卷积 $x = w * y \\in \\mathbb{R}^{(T + k - 1)}$ 在截断首尾 $k - 1$ 项后变得稀疏，即 $x_{k:T} = (x_k, x_{k+1}, ..., x_T)$ 是稀疏的。这里 $*$ 表示卷积，\n",
    "\n",
    "$$ x_i = \\sum_{j=1}^{k} w_j y_{i-j}, \\quad i = 1,...,T + k - 1 $$\n",
    "\n",
    "其中我们假设 $y_t = 0$ 对于 $t \\leq 0$。通常情况下我们有 $k \\ll T$。\n",
    "\n",
    "作为 $x$ 的稀疏性的凸替代，我们最小化其 $l_1$-范数，$\\|x\\|_1$。为了避免平凡解 $w = 0$，我们通过施加约束 $w_1 = 1$ 来规范化 $w$。\n",
    "\n",
    "**解释**（这些不是解决问题所必需的。）在信号处理术语中，我们可以说 $w$ 是一个滤波器，当应用于信号 $y$ 时，产生了 $x$，一个更简单、稀疏的信号。作为第二种解释，我们可以说 $y = w^{(-1)} * x$，其中 $w^{(-1)}$ 是 $w$ 的卷积逆，定义为\n",
    "\n",
    "$$ w^{(-1)} = F^{(-1)}(1/F(w)), $$\n",
    "\n",
    "其中 $F$ 是长度为 $N = T + k$ 的离散傅里叶变换，$F^{(-1)}$ 是其逆变换。在这种解释中，我们可以说我们已经将信号分解成了稀疏信号 $x$ 和具有短（长度为k）逆的信号 $w^{(-1)}$ 的卷积。\n",
    "\n",
    "在 `blind_deconv_data.*` 中给出的信号上执行盲反卷积。此文件还定义了核长 $k$。绘制最优 $w$ 和 $x$，以及给定的观测 $y$。还要绘制逆核 $w^{(-1)}$，使用我们在 `blind_deconv_data.*` 中提供的 `inverse_ker` 函数。\n",
    "\n",
    "**提示**：函数 `conv(w, y)` 已被重载以适用于 CVX*。\n"
   ]
  },
  {
   "cell_type": "markdown",
   "id": "e1d2e350",
   "metadata": {},
   "source": [
    "## **1.1解答**\n",
    "\n",
    "给定一个观测时间序列 $y \\in \\mathbb{R}^T$，目标是找到一个滤波器 $w \\in \\mathbb{R}^k$，使得卷积 $x = w * y$ 在截断首尾 $k - 1$ 个元素后变得稀疏，可以表述为如下优化问题：\n",
    "\n",
    "$$\n",
    "\\begin{aligned}\n",
    "& \\text{min}\n",
    "& & \\|x\\|_1 \\\\\n",
    "& \\text{s.t.}\n",
    "& & x = w * y, \\\\\n",
    "& & & w_1 = 1, \\\\\n",
    "& & & w \\in \\mathbb{R}^k, x \\in \\mathbb{R}^{(T + k - 1)}.\n",
    "\\end{aligned}\n",
    "$$\n",
    "\n",
    "这里的 $\\|x\\|_1$ 表示 $x$ 的 $l_1$-范数，即 $x$ 各元素绝对值之和。目标是最小化 $x$ 的 $l_1$-范数，而 $x$ 由 $w$ 和 $y$ 通过卷积操作得到。此外，有一个约束条件 $w_1 = 1$ 以确保 $w$ 不是零向量。因为目标函数和所有的约束都是凸的，故该优化问题为凸优化问题。\n",
    "\n",
    "使用 python 调用 cvxpy 库求解该优化问题，恢复误差（RRMS）为[0.0008676301267520908](outputs/errors/RRMS_Error.csv)。\n"
   ]
  },
  {
   "cell_type": "markdown",
   "id": "aa0c7e1a",
   "metadata": {},
   "source": [
    "[`blind_deconv_data.py`](module/blind_deconv_data.py) 模块定义了函数 `generate_waveform` 用于生成实验所需的波形数据,并定义 `inverse_ker` 函数用于计算卷积核 $w$ 的逆，是解决稀疏盲反卷积优化问题的基础。"
   ]
  },
  {
   "cell_type": "code",
   "execution_count": null,
   "id": "708c58d9",
   "metadata": {
    "vscode": {
     "languageId": "plaintext"
    }
   },
   "outputs": [],
   "source": [
    "import numpy as np\n",
    "import scipy.linalg as la\n",
    "from numpy.random import RandomState\n",
    "from scipy import signal\n",
    "\n",
    "\n",
    "# 波形生成\n",
    "def generate_waveform():\n",
    "    # 参数设置\n",
    "    T = 400        # 时间序列的长度\n",
    "    k = 20         # 滤波器的长度\n",
    "    N = T + k      # FFT计算中使用的长度\n",
    "    p = 0.1        # 稀疏信号的稀疏程度\n",
    "    sigma = 0.0001 # 噪声水平\n",
    "\n",
    "    # 使用固定的随机数种子生成模型数据\n",
    "    rn = RandomState(364)\n",
    "\n",
    "    # 生成真实滤波器，并对其进行处理以满足特定的形式\n",
    "    w_true = rn.rand(k)\n",
    "    index = np.argmax(np.abs(w_true))\n",
    "    w_true = np.roll(w_true, -index)\n",
    "    w_true = w_true / w_true[0]\n",
    "\n",
    "    # 生成稀疏信号和观测值\n",
    "    x_true = rn.randn(T)\n",
    "    x_true = rn.binomial(1, p, np.shape(x_true)) * x_true\n",
    "    y_true = np.real(np.fft.ifft(np.fft.fft(x_true, N) / np.fft.fft(w_true, N), N))\n",
    "    y = y_true[k:T+k] + sigma * rn.randn(T)\n",
    "\n",
    "    return w_true, y, T, k, N\n",
    "\n",
    "# 定义逆核函数\n",
    "def inverse_ker(w, len):\n",
    "    w_inv = np.real(np.fft.ifft(1/np.fft.fft(w, len), len))\n",
    "    return w_inv\n"
   ]
  },
  {
   "cell_type": "markdown",
   "id": "c13123b7",
   "metadata": {},
   "source": [
    "[`optimization_solve.py`](module/optimization_solve.py) 模块使用cvxpy库函数实现针对稀疏盲反卷积问题的优化求解。此模块包含了定义目标函数、设置约束条件以及调用优化求解器。"
   ]
  },
  {
   "cell_type": "code",
   "execution_count": null,
   "id": "6a4a8b4c",
   "metadata": {
    "vscode": {
     "languageId": "plaintext"
    }
   },
   "outputs": [],
   "source": [
    "import numpy as np\n",
    "import cvxpy as cvx\n",
    "from scipy import signal\n",
    "\n",
    "# 优化算法\n",
    "def optimization_solve(w_true, y, T, k):\n",
    "    # 定义优化变量\n",
    "    w = cvx.Variable(k)\n",
    "\n",
    "    # 构造卷积矩阵\n",
    "    Y = np.zeros((T, k))\n",
    "    for i in range(T):\n",
    "        Y[i, :min(i+1, k)] = y[max(0, i-k+1):i+1][::-1]\n",
    "\n",
    "    # 定义卷积操作\n",
    "    x = Y @ w\n",
    "\n",
    "    # 目标函数：最小化 x 的 l1 范数\n",
    "    objective = cvx.Minimize(cvx.norm(x, 1))\n",
    "\n",
    "    # 约束条件：w 的第一个元素等于 1\n",
    "    constraints = [w[0] == 1]\n",
    "\n",
    "    # 定义并求解问题\n",
    "    problem = cvx.Problem(objective, constraints)\n",
    "    problem.solve(solver=cvx.ECOS)\n",
    "\n",
    "    # 提取优化后的 w 和 x\n",
    "    w_optimal = w.value\n",
    "    x_optimal = Y @ w_optimal\n",
    "\n",
    "    # 误差计算\n",
    "    rmms = np.linalg.norm(w_optimal - w_true) / np.linalg.norm(w_true)      # RRMS（Relative Root Mean Square Error）误差计算\n",
    "    mse = np.mean((w_optimal - w_true) ** 2)        # 计算 MSE\n",
    "    nmse = np.linalg.norm(w_optimal - w_true) ** 2 / np.linalg.norm(w_true) ** 2        # 计算 NMSE\n",
    "    print('Optimize Success')\n",
    "\n",
    "    return w_optimal, x_optimal, rmms, mse, nmse\n",
    "    "
   ]
  },
  {
   "cell_type": "markdown",
   "id": "ed693b33",
   "metadata": {},
   "source": [
    "[`results_output.py`](module/results_output.py) 模块处理和展示输出结果，绘制图表并保存数据。"
   ]
  },
  {
   "cell_type": "code",
   "execution_count": null,
   "id": "9d2e36f1",
   "metadata": {
    "vscode": {
     "languageId": "plaintext"
    }
   },
   "outputs": [],
   "source": [
    "import matplotlib.pyplot as plt\n",
    "import numpy as np\n",
    "import pandas as pd\n",
    "import os\n",
    "\n",
    "def plot_and_save_with_csv(y1_data, title, xlabel, ylabel, output_folder_path, fig_size=(24, 5), plot_type='plot', y2_data=None, y2_label=None, legend1=None, legend2=None):\n",
    "    # 确保输出文件夹存在\n",
    "    if not os.path.exists(output_folder_path):\n",
    "        os.makedirs(output_folder_path)\n",
    "\n",
    "    # 绘制图像\n",
    "    fig, ax1 = plt.subplots(figsize=fig_size)\n",
    "\n",
    "    if plot_type == 'plot':\n",
    "        ax1.plot(y1_data, color='tab:blue', label=legend1)\n",
    "    elif plot_type == 'stem':\n",
    "        ax1.stem(y1_data, linefmt='tab:blue', label=legend1)\n",
    "\n",
    "    ax1.set_xlabel(xlabel)\n",
    "    ax1.set_ylabel(ylabel)\n",
    "    ax1.tick_params(axis='y')\n",
    "\n",
    "    # 第二个 Y 轴的处理\n",
    "    if y2_data is not None and y2_label is not None:\n",
    "        ax2 = ax1.twinx()\n",
    "        ax2.plot(y2_data, '--', color='tab:red', label=legend2)\n",
    "        ax2.set_ylabel(y2_label)\n",
    "        ax2.tick_params(axis='y')\n",
    "\n",
    "    plt.title(title)\n",
    "\n",
    "    # 显示图例\n",
    "    if legend1 is not None:\n",
    "        ax1.legend(loc='upper left')\n",
    "    if y2_data is not None and legend2 is not None:\n",
    "        ax2.legend(loc='upper right')\n",
    "\n",
    "    plt.tight_layout()\n",
    "\n",
    "    # 保存图像\n",
    "    safe_title = title.replace(' ', '_').replace('.', '').replace('-', '_')\n",
    "    image_file_name = f\"{safe_title}.jpg\"\n",
    "    plt.savefig(os.path.join(output_folder_path, image_file_name))\n",
    "    plt.show()\n",
    "\n",
    "    # 合并数据并保存到 CSV\n",
    "    csv_file_name = f\"{safe_title}.csv\"\n",
    "    if y2_data is not None:\n",
    "        # 确保数据是列表格式，即使只有一个元素\n",
    "        y1_data = [y1_data] if np.isscalar(y1_data) else y1_data\n",
    "        y2_data = [y2_data] if np.isscalar(y2_data) else y2_data\n",
    "        combined_data = pd.DataFrame({legend1: y1_data, legend2: y2_data})\n",
    "    else:\n",
    "        y1_data = [y1_data] if np.isscalar(y1_data) else y1_data\n",
    "        combined_data = pd.DataFrame({legend1: y1_data})\n",
    "    combined_data.to_csv(os.path.join(output_folder_path, csv_file_name), index=False, header=True)\n",
    "\n"
   ]
  },
  {
   "cell_type": "markdown",
   "id": "bc81d0cb",
   "metadata": {},
   "source": [
    "[`main.py`](main.py) 是整个程序的入口点，负责协调上述三个模块的功能，完成稀疏盲反卷积问题的优化求解，包含生成波形数据、执行优化算法以求解最佳滤波器和信号、计算卷积核的逆并输出结果。在 `main.py` 中先调用 `generate_waveform` 函数生成实验所需波形数据，随后通过 `optimization_solve` 函数进行数学优化以最小化 $x$ 的 $l_1$-范数 $\\|x\\|_1$ 作为其稀疏性的量化指标，最后使用 `inverse_ker` 函数计算 $w$ 的逆并将结果输出。\n"
   ]
  },
  {
   "cell_type": "code",
   "execution_count": null,
   "id": "b054a76f",
   "metadata": {
    "vscode": {
     "languageId": "plaintext"
    }
   },
   "outputs": [],
   "source": [
    "import os\n",
    "from module.blind_deconv_data import generate_waveform, inverse_ker\n",
    "from module.optimization_solve import optimization_solve\n",
    "from module.results_output import plot_and_save_with_csv\n",
    "\n",
    "# 生成波形\n",
    "w_true, y, T, k, N = generate_waveform()\n",
    "\n",
    "# 优化求解\n",
    "w_optimal, x_optimal, rrms_values, mse_values, nmse_values = optimization_solve(w_true, y, T, k)\n",
    "\n",
    "# 计算逆核\n",
    "w_inverse = inverse_ker(w_optimal, N)\n",
    "\n",
    "# 输出路径\n",
    "current_dir = os.path.dirname(os.path.realpath(__file__))\n",
    "results_output_folder_path = os.path.join(current_dir, 'outputs/results')\n",
    "error_output_folder_path = os.path.join(current_dir, 'outputs/errors')\n",
    "\n",
    "# 输出结果\n",
    "plot_and_save_with_csv(y, 'Observation y', 'Time', 'Amplitude', results_output_folder_path, legend1='y')\n",
    "plot_and_save_with_csv(w_optimal, 'Optimal Filter w', 'Index', 'Amplitude', results_output_folder_path, plot_type='stem', legend1='w_optimal')\n",
    "plot_and_save_with_csv(x_optimal, 'Sparse Signal x', 'Time', 'Amplitude', results_output_folder_path, legend1='x_optimal')\n",
    "plot_and_save_with_csv(w_inverse, 'Inverse Kernel w^-1', 'Index', 'Amplitude', results_output_folder_path, plot_type='stem', legend1='w_inverse')\n",
    "plot_and_save_with_csv(rrms_values, 'RRMS Error', 'Iteration', 'Error', error_output_folder_path, legend1='RRMS')\n",
    "plot_and_save_with_csv(mse_values, 'MSE Error', 'Iteration', 'Error', error_output_folder_path, legend1='MSE')\n",
    "plot_and_save_with_csv(nmse_values, 'NMSE Error', 'Iteration', 'Error', error_output_folder_path, legend1='NMSE')\n"
   ]
  },
  {
   "cell_type": "markdown",
   "id": "8229877e",
   "metadata": {},
   "source": [
    "[`Observation_y.jpg`](outputs/results/Observation_y.jpg) 和 [`Observation_y.csv`](outputs/results/Observation_y.csv) 为原始的观测信号 $y$。\n",
    "\n",
    "![`Observation_y.jpg`](outputs/results/Observation_y.jpg)"
   ]
  },
  {
   "cell_type": "markdown",
   "id": "c3d441e1",
   "metadata": {},
   "source": [
    "[`Optimal_Filter_w.jpg`](outputs/results/Optimal_Filter_w.jpg) 和 [`Optimal_Filter_w.csv`](outputs/results/Optimal_Filter_w.csv) 为通过优化问题求解得到的最佳滤波器 $w$ 的幅度。\n",
    "\n",
    "![`Optimal_Filter_w.jpg`](outputs/results/Optimal_Filter_w.jpg)"
   ]
  },
  {
   "cell_type": "markdown",
   "id": "a764d8c8",
   "metadata": {},
   "source": [
    "[`Sparse_Signal_x.jpg`](outputs/results/Sparse_Signal_x.jpg) 和 [`Sparse_Signal_x.csv`](outputs/results/Sparse_Signal_x.csv) 为优化后的滤波器 $w$ 与观测信号 $y$ 的卷积得到的稀疏信号 $x$。\n",
    "\n",
    "![`Sparse_Signal_x.jpg`](outputs/results/Sparse_Signal_x.jpg)"
   ]
  },
  {
   "cell_type": "markdown",
   "id": "c5ff8481",
   "metadata": {},
   "source": [
    "[`Inverse Kernel w^-1.jpg`](outputs/results/Inverse_Kernel_w^_1.jpg) 和 [`Inverse Kernel w^-1.csv`](outputs/results/Inverse_Kernel_w^_1.csv) 为滤波器 $w$ 的逆核 $w^{-1}$ 。\n",
    "\n",
    "![`Inverse Kernel w^-1.jpg`](outputs/results/Inverse_Kernel_w^_1.jpg)"
   ]
  }
 ],
 "metadata": {
  "language_info": {
   "name": "python"
  }
 },
 "nbformat": 4,
 "nbformat_minor": 5
}
