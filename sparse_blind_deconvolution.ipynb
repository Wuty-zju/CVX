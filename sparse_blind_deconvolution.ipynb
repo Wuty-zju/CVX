{
 "cells": [
  {
   "cell_type": "markdown",
   "id": "767af2b2",
   "metadata": {},
   "source": [
    "\n",
    "**15.15 Sparse blind deconvolution.** We are given a time series observation \\( y \\in \\mathbb{R}^T \\), and seek a filter (convolution kernel) \\( w \\in \\mathbb{R}^k \\), so that the convolution \\( x = w * y \\in \\mathbb{R}^{(T + k - 1)} \\) is sparse after truncating the first and last \\( k - 1 \\) entries, i.e., \\( x_{k:T} = (x_k, x_{k+1}, \\ldots, x_T) \\) is sparse. Here \\( * \\) denotes convolution,\n",
    "\n",
    "\\[\n",
    "x_i = \\sum_{j=1} w_j y_{i-j}, \\quad i = 1, \\ldots, T + k - 1,\n",
    "\\]\n",
    "\n",
    "where we assume that \\( y_t = 0 \\) for \\( t \\leq 0 \\). Typically we have \\( k \\ll T \\).\n",
    "\n",
    "As a convex surrogate for sparsity of \\( x \\), we minimize its l1-norm, \\( \\lVert x \r",
    "Vert_1 \\). To preclude the trivial solution \\( w = 0 \\), we normalize \\( w \\) by imposing the constraint \\( w_1 = 1 \\).\n",
    "\n",
    "*Interpretations.* (These are not needed to solve the problem.) In signal processing dialect, we can say that \\( w \\) is a filter which, when applied to the signal \\( y \\), results in \\( x \\), a simpler, sparse signal. As a second interpretation, we can say that \\( y = w^{(-1)} * x \\), where \\( w^{(-1)} \\) is the convolution inverse of \\( w \\), defined as\n",
    "\n",
    "\\[\n",
    "w^{(-1)} = F^{(-1)}\\left(\f",
    "rac{1}{F(w)}\r",
    "ight),\n",
    "\\]\n",
    "\n",
    "where \\( F \\) is discrete Fourier transform at length \\( N = T + k \\) and \\( F^{(-1)} \\) is its inverse transform. In this interpretation, we can say that we have decomposed the signal into the convolution of a sparse signal \\( x \\) and a signal with short (k-long) inverse, \\( w^{(-1)} \\).\n",
    "\n",
    "Carry out blind deconvolution on the signal given in `blind_deconv_data.*`. This file also defines the kernel length \\( k \\). Plot optimal \\( w \\) and \\( x \\), and also the given observation \\( y \\). Also plot the inverse kernel \\( w^{(-1)} \\), use the function `inverse_ker` that we provided in `blind_deconv_data.*`.\n",
    "\n",
    "*Hint.* The function `conv(w, y)` is overloaded to work with CVX*.\n"
   ]
  }
 ],
 "metadata": {},
 "nbformat": 4,
 "nbformat_minor": 5
}
